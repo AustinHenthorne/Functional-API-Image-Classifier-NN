{
 "cells": [
  {
   "cell_type": "code",
   "execution_count": 1,
   "id": "retired-functionality",
   "metadata": {
    "_cell_guid": "f2be1918-e994-44e7-99be-2b5442aa0f67",
    "_uuid": "09788a8b-762f-448f-b72a-ea5a9bd0fda6",
    "collapsed": false,
    "execution": {
     "iopub.execute_input": "2021-06-02T00:08:53.337610Z",
     "iopub.status.busy": "2021-06-02T00:08:53.336927Z",
     "iopub.status.idle": "2021-06-02T00:09:03.817679Z",
     "shell.execute_reply": "2021-06-02T00:09:03.817114Z",
     "shell.execute_reply.started": "2021-06-02T00:05:20.459454Z"
    },
    "jupyter": {
     "outputs_hidden": false
    },
    "papermill": {
     "duration": 10.498174,
     "end_time": "2021-06-02T00:09:03.817835",
     "exception": false,
     "start_time": "2021-06-02T00:08:53.319661",
     "status": "completed"
    },
    "tags": []
   },
   "outputs": [
    {
     "name": "stdout",
     "output_type": "stream",
     "text": [
      "/kaggle/input/fashionmnist/t10k-labels-idx1-ubyte\n",
      "/kaggle/input/fashionmnist/t10k-images-idx3-ubyte\n",
      "/kaggle/input/fashionmnist/fashion-mnist_test.csv\n",
      "/kaggle/input/fashionmnist/fashion-mnist_train.csv\n",
      "/kaggle/input/fashionmnist/train-labels-idx1-ubyte\n",
      "/kaggle/input/fashionmnist/train-images-idx3-ubyte\n"
     ]
    }
   ],
   "source": [
    "# This Python 3 environment comes with many helpful analytics libraries installed\n",
    "# It is defined by the kaggle/python Docker image: https://github.com/kaggle/docker-python\n",
    "# For example, here's several helpful packages to load\n",
    "\n",
    "import numpy as np # linear algebra\n",
    "import pandas as pd # data processing, CSV file I/O (e.g. pd.read_csv)\n",
    "import tensorflow as tf\n",
    "from tensorflow import keras\n",
    "\n",
    "# Input data files are available in the read-only \"../input/\" directory\n",
    "# For example, running this (by clicking run or pressing Shift+Enter) will list all files under the input directory\n",
    "\n",
    "import os\n",
    "for dirname, _, filenames in os.walk('/kaggle/input'):\n",
    "    for filename in filenames:\n",
    "        print(os.path.join(dirname, filename))\n",
    "\n",
    "# You can write up to 20GB to the current directory (/kaggle/working/) that gets preserved as output when you create a version using \"Save & Run All\" \n",
    "# You can also write temporary files to /kaggle/temp/, but they won't be saved outside of the current session\n",
    "\n",
    "# Import the datasets\n",
    "train_full = pd.read_csv(\"../input/fashionmnist/fashion-mnist_train.csv\")\n",
    "test_full = pd.read_csv(\"../input/fashionmnist/fashion-mnist_test.csv\")"
   ]
  },
  {
   "cell_type": "code",
   "execution_count": 2,
   "id": "about-facial",
   "metadata": {
    "execution": {
     "iopub.execute_input": "2021-06-02T00:09:03.837427Z",
     "iopub.status.busy": "2021-06-02T00:09:03.836805Z",
     "iopub.status.idle": "2021-06-02T00:09:03.840167Z",
     "shell.execute_reply": "2021-06-02T00:09:03.840548Z",
     "shell.execute_reply.started": "2021-06-02T00:05:24.855714Z"
    },
    "papermill": {
     "duration": 0.015905,
     "end_time": "2021-06-02T00:09:03.840661",
     "exception": false,
     "start_time": "2021-06-02T00:09:03.824756",
     "status": "completed"
    },
    "tags": []
   },
   "outputs": [
    {
     "data": {
      "text/plain": [
       "(60000, 785)"
      ]
     },
     "execution_count": 2,
     "metadata": {},
     "output_type": "execute_result"
    }
   ],
   "source": [
    "train_full.shape"
   ]
  },
  {
   "cell_type": "code",
   "execution_count": 3,
   "id": "lesser-marsh",
   "metadata": {
    "_cell_guid": "f2be1918-e994-44e7-99be-2b5442aa0f67",
    "_uuid": "09788a8b-762f-448f-b72a-ea5a9bd0fda6",
    "collapsed": false,
    "execution": {
     "iopub.execute_input": "2021-06-02T00:09:03.970533Z",
     "iopub.status.busy": "2021-06-02T00:09:03.862205Z",
     "iopub.status.idle": "2021-06-02T00:09:03.972989Z",
     "shell.execute_reply": "2021-06-02T00:09:03.972557Z",
     "shell.execute_reply.started": "2021-06-02T00:05:24.864218Z"
    },
    "jupyter": {
     "outputs_hidden": false
    },
    "papermill": {
     "duration": 0.12628,
     "end_time": "2021-06-02T00:09:03.973115",
     "exception": false,
     "start_time": "2021-06-02T00:09:03.846835",
     "status": "completed"
    },
    "tags": []
   },
   "outputs": [],
   "source": [
    "# Drop the label and make it a dataframe\n",
    "X_train_full = train_full.drop('label', axis=1)\n",
    "y_train_full = train_full['label']"
   ]
  },
  {
   "cell_type": "code",
   "execution_count": 4,
   "id": "handled-elimination",
   "metadata": {
    "_cell_guid": "f2be1918-e994-44e7-99be-2b5442aa0f67",
    "_uuid": "09788a8b-762f-448f-b72a-ea5a9bd0fda6",
    "collapsed": false,
    "execution": {
     "iopub.execute_input": "2021-06-02T00:09:03.990781Z",
     "iopub.status.busy": "2021-06-02T00:09:03.990302Z",
     "iopub.status.idle": "2021-06-02T00:09:04.138321Z",
     "shell.execute_reply": "2021-06-02T00:09:04.137434Z",
     "shell.execute_reply.started": "2021-06-02T00:05:24.985313Z"
    },
    "jupyter": {
     "outputs_hidden": false
    },
    "papermill": {
     "duration": 0.158775,
     "end_time": "2021-06-02T00:09:04.138462",
     "exception": false,
     "start_time": "2021-06-02T00:09:03.979687",
     "status": "completed"
    },
    "tags": []
   },
   "outputs": [],
   "source": [
    "# Split Training Dataset to a training and validaton set\n",
    "# Validation set = 5,000   Training set = 55,000\n",
    "X_valid, X_train = X_train_full[:5000] / 255.0, X_train_full[5000:] / 255.0\n",
    "y_valid, y_train = y_train_full[:5000], y_train_full[5000:]"
   ]
  },
  {
   "cell_type": "code",
   "execution_count": 5,
   "id": "impressed-garbage",
   "metadata": {
    "execution": {
     "iopub.execute_input": "2021-06-02T00:09:04.156893Z",
     "iopub.status.busy": "2021-06-02T00:09:04.156360Z",
     "iopub.status.idle": "2021-06-02T00:09:06.097771Z",
     "shell.execute_reply": "2021-06-02T00:09:06.097261Z",
     "shell.execute_reply.started": "2021-06-02T00:05:25.135636Z"
    },
    "papermill": {
     "duration": 1.952839,
     "end_time": "2021-06-02T00:09:06.097913",
     "exception": false,
     "start_time": "2021-06-02T00:09:04.145074",
     "status": "completed"
    },
    "tags": []
   },
   "outputs": [],
   "source": [
    "# Build the Neural Network\n",
    "model = keras.models.Sequential([\n",
    "    keras.layers.Input(shape=X_train.shape[1:]),\n",
    "    keras.layers.BatchNormalization(),\n",
    "    keras.layers.Dense(300, activation=\"relu\", kernel_initializer=\"he_normal\"),\n",
    "    keras.layers.BatchNormalization(),\n",
    "    keras.layers.Dense(100, activation=\"relu\", kernel_initializer=\"he_normal\"),\n",
    "    keras.layers.BatchNormalization(),\n",
    "    keras.layers.Dense(10, activation=\"softmax\")\n",
    "])"
   ]
  },
  {
   "cell_type": "code",
   "execution_count": 6,
   "id": "sophisticated-python",
   "metadata": {
    "execution": {
     "iopub.execute_input": "2021-06-02T00:09:06.121177Z",
     "iopub.status.busy": "2021-06-02T00:09:06.120383Z",
     "iopub.status.idle": "2021-06-02T00:09:06.126464Z",
     "shell.execute_reply": "2021-06-02T00:09:06.126068Z",
     "shell.execute_reply.started": "2021-06-02T00:05:25.225744Z"
    },
    "papermill": {
     "duration": 0.022098,
     "end_time": "2021-06-02T00:09:06.126574",
     "exception": false,
     "start_time": "2021-06-02T00:09:06.104476",
     "status": "completed"
    },
    "tags": []
   },
   "outputs": [],
   "source": [
    "model.compile(loss=\"sparse_categorical_crossentropy\",\n",
    "              optimizer=\"sgd\",\n",
    "              metrics=[\"accuracy\"])"
   ]
  },
  {
   "cell_type": "code",
   "execution_count": 7,
   "id": "toxic-chance",
   "metadata": {
    "execution": {
     "iopub.execute_input": "2021-06-02T00:09:06.142851Z",
     "iopub.status.busy": "2021-06-02T00:09:06.142290Z",
     "iopub.status.idle": "2021-06-02T00:11:47.595287Z",
     "shell.execute_reply": "2021-06-02T00:11:47.594779Z",
     "shell.execute_reply.started": "2021-06-02T00:05:25.239529Z"
    },
    "papermill": {
     "duration": 161.46233,
     "end_time": "2021-06-02T00:11:47.595414",
     "exception": false,
     "start_time": "2021-06-02T00:09:06.133084",
     "status": "completed"
    },
    "tags": []
   },
   "outputs": [
    {
     "name": "stdout",
     "output_type": "stream",
     "text": [
      "Epoch 1/30\n",
      "1719/1719 [==============================] - 7s 3ms/step - loss: 0.7166 - accuracy: 0.7557 - val_loss: 0.3930 - val_accuracy: 0.8612\n",
      "Epoch 2/30\n",
      "1719/1719 [==============================] - 5s 3ms/step - loss: 0.4191 - accuracy: 0.8502 - val_loss: 0.3598 - val_accuracy: 0.8740\n",
      "Epoch 3/30\n",
      "1719/1719 [==============================] - 5s 3ms/step - loss: 0.3789 - accuracy: 0.8647 - val_loss: 0.3380 - val_accuracy: 0.8800\n",
      "Epoch 4/30\n",
      "1719/1719 [==============================] - 5s 3ms/step - loss: 0.3496 - accuracy: 0.8756 - val_loss: 0.3240 - val_accuracy: 0.8820\n",
      "Epoch 5/30\n",
      "1719/1719 [==============================] - 5s 3ms/step - loss: 0.3205 - accuracy: 0.8838 - val_loss: 0.3180 - val_accuracy: 0.8856\n",
      "Epoch 6/30\n",
      "1719/1719 [==============================] - 5s 3ms/step - loss: 0.3067 - accuracy: 0.8890 - val_loss: 0.3180 - val_accuracy: 0.8848\n",
      "Epoch 7/30\n",
      "1719/1719 [==============================] - 5s 3ms/step - loss: 0.2861 - accuracy: 0.8946 - val_loss: 0.3089 - val_accuracy: 0.8874\n",
      "Epoch 8/30\n",
      "1719/1719 [==============================] - 5s 3ms/step - loss: 0.2773 - accuracy: 0.8988 - val_loss: 0.3062 - val_accuracy: 0.8896\n",
      "Epoch 9/30\n",
      "1719/1719 [==============================] - 6s 3ms/step - loss: 0.2644 - accuracy: 0.9047 - val_loss: 0.3106 - val_accuracy: 0.8904\n",
      "Epoch 10/30\n",
      "1719/1719 [==============================] - 5s 3ms/step - loss: 0.2562 - accuracy: 0.9051 - val_loss: 0.3016 - val_accuracy: 0.8892\n",
      "Epoch 11/30\n",
      "1719/1719 [==============================] - 5s 3ms/step - loss: 0.2459 - accuracy: 0.9103 - val_loss: 0.3013 - val_accuracy: 0.8928\n",
      "Epoch 12/30\n",
      "1719/1719 [==============================] - 5s 3ms/step - loss: 0.2343 - accuracy: 0.9151 - val_loss: 0.2989 - val_accuracy: 0.8924\n",
      "Epoch 13/30\n",
      "1719/1719 [==============================] - 5s 3ms/step - loss: 0.2248 - accuracy: 0.9173 - val_loss: 0.3023 - val_accuracy: 0.8926\n",
      "Epoch 14/30\n",
      "1719/1719 [==============================] - 5s 3ms/step - loss: 0.2170 - accuracy: 0.9226 - val_loss: 0.3014 - val_accuracy: 0.8924\n",
      "Epoch 15/30\n",
      "1719/1719 [==============================] - 6s 3ms/step - loss: 0.2107 - accuracy: 0.9232 - val_loss: 0.3029 - val_accuracy: 0.8924\n",
      "Epoch 16/30\n",
      "1719/1719 [==============================] - 5s 3ms/step - loss: 0.2027 - accuracy: 0.9262 - val_loss: 0.3028 - val_accuracy: 0.8962\n",
      "Epoch 17/30\n",
      "1719/1719 [==============================] - 6s 3ms/step - loss: 0.1974 - accuracy: 0.9279 - val_loss: 0.3000 - val_accuracy: 0.8974\n",
      "Epoch 18/30\n",
      "1719/1719 [==============================] - 5s 3ms/step - loss: 0.1907 - accuracy: 0.9289 - val_loss: 0.3059 - val_accuracy: 0.8972\n",
      "Epoch 19/30\n",
      "1719/1719 [==============================] - 5s 3ms/step - loss: 0.1840 - accuracy: 0.9327 - val_loss: 0.3098 - val_accuracy: 0.8954\n",
      "Epoch 20/30\n",
      "1719/1719 [==============================] - 5s 3ms/step - loss: 0.1802 - accuracy: 0.9337 - val_loss: 0.3068 - val_accuracy: 0.8952\n",
      "Epoch 21/30\n",
      "1719/1719 [==============================] - 5s 3ms/step - loss: 0.1764 - accuracy: 0.9362 - val_loss: 0.3186 - val_accuracy: 0.8936\n",
      "Epoch 22/30\n",
      "1719/1719 [==============================] - 5s 3ms/step - loss: 0.1659 - accuracy: 0.9400 - val_loss: 0.3085 - val_accuracy: 0.8988\n",
      "Epoch 23/30\n",
      "1719/1719 [==============================] - 6s 3ms/step - loss: 0.1685 - accuracy: 0.9403 - val_loss: 0.3208 - val_accuracy: 0.8938\n",
      "Epoch 24/30\n",
      "1719/1719 [==============================] - 5s 3ms/step - loss: 0.1589 - accuracy: 0.9431 - val_loss: 0.3184 - val_accuracy: 0.8946\n",
      "Epoch 25/30\n",
      "1719/1719 [==============================] - 5s 3ms/step - loss: 0.1555 - accuracy: 0.9441 - val_loss: 0.3172 - val_accuracy: 0.8974\n",
      "Epoch 26/30\n",
      "1719/1719 [==============================] - 5s 3ms/step - loss: 0.1503 - accuracy: 0.9450 - val_loss: 0.3258 - val_accuracy: 0.8928\n",
      "Epoch 27/30\n",
      "1719/1719 [==============================] - 5s 3ms/step - loss: 0.1484 - accuracy: 0.9468 - val_loss: 0.3221 - val_accuracy: 0.8940\n",
      "Epoch 28/30\n",
      "1719/1719 [==============================] - 5s 3ms/step - loss: 0.1377 - accuracy: 0.9496 - val_loss: 0.3227 - val_accuracy: 0.9006\n",
      "Epoch 29/30\n",
      "1719/1719 [==============================] - 6s 3ms/step - loss: 0.1385 - accuracy: 0.9507 - val_loss: 0.3331 - val_accuracy: 0.8968\n",
      "Epoch 30/30\n",
      "1719/1719 [==============================] - 5s 3ms/step - loss: 0.1352 - accuracy: 0.9519 - val_loss: 0.3516 - val_accuracy: 0.8904\n"
     ]
    },
    {
     "data": {
      "text/plain": [
       "<tensorflow.python.keras.callbacks.History at 0x7f02204636d0>"
      ]
     },
     "execution_count": 7,
     "metadata": {},
     "output_type": "execute_result"
    }
   ],
   "source": [
    "model.fit(X_train, y_train, epochs=30,\n",
    "          validation_data=(X_valid, y_valid))"
   ]
  }
 ],
 "metadata": {
  "kernelspec": {
   "display_name": "Python 3",
   "language": "python",
   "name": "python3"
  },
  "language_info": {
   "codemirror_mode": {
    "name": "ipython",
    "version": 3
   },
   "file_extension": ".py",
   "mimetype": "text/x-python",
   "name": "python",
   "nbconvert_exporter": "python",
   "pygments_lexer": "ipython3",
   "version": "3.7.10"
  },
  "papermill": {
   "default_parameters": {},
   "duration": 183.686739,
   "end_time": "2021-06-02T00:11:50.445931",
   "environment_variables": {},
   "exception": null,
   "input_path": "__notebook__.ipynb",
   "output_path": "__notebook__.ipynb",
   "parameters": {},
   "start_time": "2021-06-02T00:08:46.759192",
   "version": "2.3.3"
  }
 },
 "nbformat": 4,
 "nbformat_minor": 5
}
